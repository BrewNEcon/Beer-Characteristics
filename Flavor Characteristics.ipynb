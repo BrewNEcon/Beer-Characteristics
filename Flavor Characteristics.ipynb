{
 "cells": [
  {
   "cell_type": "markdown",
   "metadata": {},
   "source": [
    "# Beer Flavor Characteristics\n",
    "Looking at top 100 rated American Imperial Stouts and American Double IPAs on BeerAdvocate."
   ]
  },
  {
   "cell_type": "code",
   "execution_count": 2,
   "metadata": {
    "collapsed": true
   },
   "outputs": [],
   "source": [
    "%matplotlib inline\n",
    "import pandas as pd\n",
    "import numpy as np\n",
    "from bs4 import BeautifulSoup\n",
    "import requests\n",
    "from selenium import webdriver\n",
    "import time\n",
    "from __future__ import division\n",
    "import math\n",
    "import string\n",
    "import re\n",
    "import nltk\n",
    "from nltk.corpus import stopwords\n",
    "from wordcloud import WordCloud\n",
    "import matplotlib.pyplot as plt\n",
    "from sklearn.feature_extraction.text import CountVectorizer\n",
    "from sklearn.ensemble import RandomForestClassifier\n",
    "import random\n",
    "from scipy.misc import imread\n",
    "import textwrap\n",
    "from scipy import ndimage"
   ]
  },
  {
   "cell_type": "code",
   "execution_count": 3,
   "metadata": {
    "collapsed": true
   },
   "outputs": [],
   "source": [
    "ImpStouts_list = pd.read_csv('Top_100_ImpStouts.csv', index_col = 0)\n",
    "ImpStouts_char = pd.read_csv('Top_100_ImpStouts_Chars.csv', index_col = 0)\n",
    "ImpStouts_data = pd.read_csv('Top_100_ImpStouts_Reviews.csv', index_col = 0)\n",
    "\n",
    "DIPAs_list = pd.read_csv('Top_100_DIPAs.csv', index_col = 0)\n",
    "DIPAs_char = pd.read_csv('Top_100_DIPAs_Chars.csv', index_col = 0)\n",
    "DIPAs_data = pd.read_csv('Top_100_DIPAs_Reviews.csv', index_col = 0)\n",
    "\n",
    "taste = set([u'acidic', u'acidity', u'alcohol', u'alcoholic', u'almond', u'almonds', u'ash', u'ashy', u'astringency', \\\n",
    "             u'astringent', u'bacon', u'berries', u'berry', u'biscuit', u'bite', u'bitter', u'booze', u'boozey', \\\n",
    "             u'booziness', u'boozy', u'bitterness', u'bittersweet', u'bourbon', u'bourbony', u'brandy', u'bread', \\\n",
    "             u'bready', u'brownie', u'brownies', u'burn', u'burned', u'burning', u'burns', u'burnt', u'butter', \\\n",
    "             u'butterscotch', u'buttery', u'cafe', u'cappuccino', u'caramel', u'chalky', u'charred', u'cherries', \\\n",
    "             u'cherry', u'chile', u'chiles', u'chili', u'chilies', u'chilis', u'chilled', u'chilli', u'chillies', \\\n",
    "             u'chocolate', u'chocolately', u'chocolates', u'chocolatey', u'chocolaty', u'cinnamon', u'citrus', \\\n",
    "             u'city', u'coco', u'cocoa', u'coconut', u'coffe', u'coffee', u'cola', u'cookie', u'cookies',  u'cream', \\\n",
    "             u'creaminess', u'creamy', u'creme', u'dense', u'dryness', u'earth', u'earthiness', u'earthy', \\\n",
    "             u'espresso', u'esters', u'ethanol', u'fruit', u'fruitiness', u'fruits', u'fruity', u'fudge', u'fudgey', \\\n",
    "             u'fudgy', u'grainy',  u'grassy', u'habanero', u'hazelnut', u'hazelnuts', u'herbal', u'herbal', u'hoppy', \\\n",
    "             u'java', u'lactic', u'lactose', u'lactic', u'lactose', u'latte', u'liqueur', u'licorice', u'liquor', \\\n",
    "             u'liquorice', u'maltiness', u'malty', u'maple', u'marshmallow', u'marshmallows', u'milk', u'milkshake', \\\n",
    "             u'milky', u'mocha', u'molasses', u'mousse', u'nut', u'nutmeg', u'nuts', u'nuttiness', u'nutty', u'oak', \\\n",
    "             u'oakiness', u'oaky', u'oat', u'oatmeal', u'oats', u'plum', u'plums', u'prune', u'prune', u'raisin', \\\n",
    "             u'raisins', u'raspberry', u'roast', u'roastiness', u'roasty', u'rum', u'rye', u'savory', u'sherry', \\\n",
    "             u'smoke', u'smokey', u'smokiness', u'smoky', u'sour', u'sourness', u'spiciness', u'spicy', u'sugary', \\\n",
    "             u'sweet', u'syrup', u'syrupy', u'tangy', u'tannins', u'tart', u'tartness', u'thick', u'thin', u'toast', \\\n",
    "             u'toasty', u'tobacco', u'toffee', u'vanilla', u'velvety', u'warm', u'warming', u'warms', u'warmth', \\\n",
    "             u'whiskey', u'whisky', u'wood', u'woodiness', u'woody', u'acidic', u'acidity’, u’alcoholic', u'apple', \\\n",
    "             u'apricot', u'apricots', u'astringency', \\\n",
    "             u'astringent', u'balance', u'balanced', u'balances', u'balancing', u'banana', u'biscuit', u'biscuity', \\\n",
    "             u'bite', u'biting', u'bitter', u'bitterness', u'bittersweet', u'booziness', u'boozy', u'bready', \\\n",
    "             u'bubblegum', u'butterscotch', u'buttery', u'cantaloupe', u'caramel', u'caramelized', \\\n",
    "             u'citric', u'citrus', u'citrusy', u'clementine', u'cloying', u'creaminess', u'creamy', u'crisp', \\\n",
    "             u'crispness', u'dank', u'earth', u'earthiness', u'earthy', u'ethanol', u'evergreen', \\\n",
    "             u'floral', u'florals', u'flower', u'flowers', u'flowery', u'fresh', u'freshness', u'fruit', \\\n",
    "             u'fruitiness', u'fruits', u'fruity', u'funk', u'funky', u'garlic', u'grainy', u'grape', u'grapefruit', \\\n",
    "             u'grapefruits', u'grapefruity', u'grapes', u'grass', u'grassiness', u'grassy',  u'guava', u'herbaceous', \\\n",
    "             u'herbal', u'herbs', u'honey', u'honeydew', u'hoppiness', u'hoppy', u'juice', \\\n",
    "             u'juicy', u'lemon', u'lemons', u'lemony', u'malt', u'maltiness', u'malty', u'mandarin', u'mango', \\\n",
    "             u'mangoes', u'mangos', u'marijuana', \\\n",
    "             u'marmalade', u'melon', u'nectar', u'nectarine', u'oranges', u'orangey', u'passionfruit', u'peach', \\\n",
    "             u'peaches', u'peachy', u'pear', u'pine', u'pineapple', u'pineapples', u'piney', u'piny', u'resin', \\\n",
    "             u'resinous', u'resins', u'resiny', u'rye', u'sap', u'sappy', u'spice', u'spices', u'spiciness', u'spicy', \\\n",
    "             u'spruce', u'strawberry', u'sugar', u'sugars', u'sugary',  u'sweet', u'sweetness', u'tang', u'tangerine', \\\n",
    "             u'tangerines', u'tangy', u'tart', u'tartness', u'toasted', u'toasty', u'tobacco', u'toffee', u'tropical', \\\n",
    "             u'unbalanced', u'vanilla', u'wood', u'woody', u'yeast', u'yeasty', u'zest', u'zesty'])\n",
    "\n",
    "exclude = set(string.punctuation)\n",
    "table = string.maketrans('','')\n",
    "stops = set(stopwords.words(\"english\"))  \n",
    "def remove_punctuation(s):\n",
    "    table = string.maketrans('','')\n",
    "    return s.translate(table, string.punctuation)\n",
    "\n",
    "def tokenize(text):\n",
    "    text = re.sub('[^a-zA-Z]', ' ', text) \n",
    "    text = remove_punctuation(text)\n",
    "    text = text.lower().split()\n",
    "    text = [w for w in text if not w in stops]\n",
    "    text = [w for w in text if w in taste] \n",
    "    return ' '.join(text)\n",
    "\n",
    "def User_Text(text):\n",
    "    try:\n",
    "        texts = ''.join(text.split(':')[5:])    \n",
    "        if not texts:\n",
    "            texts = text \n",
    "    except:\n",
    "        texts = text   \n",
    "    return texts\n",
    "\n",
    "ImpStouts_data['User_Rating'] = ImpStouts_data['User_Reviews'].apply(lambda x: float(x.split('/', )[0]))\n",
    "ImpStouts_data['User_Reviews_Text'] = ImpStouts_data['User_Reviews'].apply(lambda x: User_Text(x))\n",
    "ImpStouts_data['Text'] = ImpStouts_data['User_Reviews_Text'].apply(lambda x: tokenize(x))\n",
    "\n",
    "DIPAs_data['User_Rating'] = DIPAs_data['User_Reviews'].apply(lambda x: float(x.split('/', )[0]))\n",
    "DIPAs_data['User_Reviews_Text'] = DIPAs_data['User_Reviews'].apply(lambda x: User_Text(x))\n",
    "DIPAs_data['Text'] = DIPAs_data['User_Reviews_Text'].apply(lambda x: tokenize(x))\n",
    "\n",
    "ImpStouts_full_data = pd.merge(ImpStouts_list, ImpStouts_data, how='left', on=['Beer'])\n",
    "ImpStouts_full_data = pd.merge(ImpStouts_full_data, ImpStouts_char, how='left', on=['Beer'])\n",
    "\n",
    "DIPAs_full_data = pd.merge(DIPAs_list, DIPAs_data, how='left', on=['Beer'])\n",
    "DIPAs_full_data = pd.merge(DIPAs_full_data, DIPAs_char, how='left', on=['Beer'])\n",
    "\n",
    "vectorizer = CountVectorizer(analyzer = \"word\",   \\\n",
    "                             tokenizer = None,    \\\n",
    "                             preprocessor = None, \\\n",
    "                             stop_words = None,   \\\n",
    "                             max_features = 2000)\n",
    "\n",
    "ImpStouts_revs = np.array(ImpStouts_full_data['Text'])\n",
    "DIPAs_revs = np.array(DIPAs_full_data['Text'])\n",
    "\n",
    "ImpStouts_features = vectorizer.fit_transform(ImpStouts_revs)\n",
    "ImpStouts_features = ImpStouts_features.toarray()\n",
    "ImpStouts_vocab = vectorizer.get_feature_names()\n",
    "\n",
    "DIPAs_features = vectorizer.fit_transform(DIPAs_revs)\n",
    "DIPAs_features = DIPAs_features.toarray()\n",
    "DIPAs_vocab = vectorizer.get_feature_names()\n",
    "\n",
    "beer_mug = imread('mug.JPG')\n",
    "\n",
    "def brown_color_func(word, font_size, position, orientation, random_state=None, **kwargs):\n",
    "    return \"hsl(30, 80%%, %d%%)\" % random.randint(10, 50)\n",
    "\n",
    "def green_color_func(word, font_size, position, orientation, random_state=None, **kwargs):\n",
    "    return \"hsl(90, 100%%, %d%%)\" % random.randint(10, 50)\n",
    "\n",
    "def all_beers(full_data, train_data_features):\n",
    "    beer_groups = full_data.groupby('Beer')\n",
    "    flavors = []\n",
    "    for name, group in beer_groups:\n",
    "        #print list(group.index.values)\n",
    "        b = train_data_features[list(group.index.values)].sum(axis = 0) / len(group)\n",
    "        b = b.reshape(1,len(b))\n",
    "        flavors.append(b.tolist())\n",
    "\n",
    "    freq = np.array(flavors).sum(axis = 0) / len(group)\n",
    "    freq = freq.tolist()[0]\n",
    "    return freq"
   ]
  },
  {
   "cell_type": "markdown",
   "metadata": {},
   "source": [
    "Using a random florest classifier I estimated what were 10 most important flavor characteristics determining an individuals rating of a beer given their written review."
   ]
  },
  {
   "cell_type": "code",
   "execution_count": 4,
   "metadata": {
    "collapsed": false
   },
   "outputs": [
    {
     "data": {
      "image/png": "[encoded data removed]",
      "text/plain": [
       "<matplotlib.figure.Figure at 0x1167f6e10>"
      ]
     },
     "metadata": {},
     "output_type": "display_data"
    }
   ],
   "source": [
    "forest = RandomForestClassifier(n_estimators = 150) \n",
    "b = np.asarray(ImpStouts_data['User_Rating'], dtype=\"|S6\")\n",
    "forest = forest.fit(ImpStouts_features, b)\n",
    "\n",
    "importances = forest.feature_importances_\n",
    "imp = list(np.argpartition(importances, -10)[-10:])\n",
    "ImpStouts_imp = []\n",
    "ImpStouts_imp_vocab = []\n",
    "for i in range(len(imp)):\n",
    "    ImpStouts_imp.append(importances[imp[i]])\n",
    "    ImpStouts_imp_vocab.append(ImpStouts_vocab[imp[i]])\n",
    "    \n",
    "sorted_imp = sorted(zip(ImpStouts_imp, ImpStouts_imp_vocab), key=lambda tup: tup[0])\n",
    "\n",
    "labels = [textwrap.fill(text,12) for text in list(zip(*sorted_imp)[1])]\n",
    "N = len(labels)\n",
    "x = range(N)\n",
    "width = 1\n",
    "p = plt.barh(x, list(zip(*sorted_imp)[0]), width, color='b', align='center')\n",
    "p = plt.yticks(x, labels, ha = 'right')\n",
    "p = plt.title('Imperial Stout: Most Important Flavor Characteristics', fontsize = 15)"
   ]
  },
  {
   "cell_type": "code",
   "execution_count": 5,
   "metadata": {
    "collapsed": false
   },
   "outputs": [
    {
     "data": {
      "image/png": "[encoded data removed]",
      "text/plain": [
       "<matplotlib.figure.Figure at 0x1162ff090>"
      ]
     },
     "metadata": {},
     "output_type": "display_data"
    }
   ],
   "source": [
    "forest = RandomForestClassifier(n_estimators = 150) \n",
    "b = np.asarray(DIPAs_data['User_Rating'], dtype=\"|S6\")\n",
    "forest = forest.fit(DIPAs_features, b)\n",
    "\n",
    "importances = forest.feature_importances_\n",
    "imp = list(np.argpartition(importances, -10)[-10:])\n",
    "DIPAs_imp = []\n",
    "DIPAs_imp_vocab = []\n",
    "for i in range(len(imp)):\n",
    "    DIPAs_imp.append(importances[imp[i]])\n",
    "    DIPAs_imp_vocab.append(DIPAs_vocab[imp[i]])\n",
    "    \n",
    "sorted_imp = sorted(zip(DIPAs_imp, DIPAs_imp_vocab), key=lambda tup: tup[0])\n",
    "\n",
    "labels = [textwrap.fill(text,12) for text in list(zip(*sorted_imp)[1])]\n",
    "N = len(labels)\n",
    "x = range(N)\n",
    "width = 1\n",
    "p = plt.barh(x, list(zip(*sorted_imp)[0]), width, color='g', align='center')\n",
    "p = plt.yticks(x, labels, ha = 'right')\n",
    "p = plt.title('Imperial IPA: Most Important Flavor Characteristics', fontsize = 15)"
   ]
  },
  {
   "cell_type": "code",
   "execution_count": 6,
   "metadata": {
    "collapsed": false
   },
   "outputs": [
    {
     "data": {
      "text/html": [
       "<script>\n",
       "code_show=true; \n",
       "function code_toggle() {\n",
       " if (code_show){\n",
       " $('div.input').hide();\n",
       " } else {\n",
       " $('div.input').show();\n",
       " }\n",
       " code_show = !code_show\n",
       "} \n",
       "$( document ).ready(code_toggle);\n",
       "</script>\n",
       "<form action=\"javascript:code_toggle()\"><input type=\"submit\" value=\"Click here to toggle on/off the raw code.\"></form>"
      ],
      "text/plain": [
       "<IPython.core.display.HTML object>"
      ]
     },
     "execution_count": 6,
     "metadata": {},
     "output_type": "execute_result"
    }
   ],
   "source": [
    "from IPython.display import HTML\n",
    "\n",
    "HTML('''<script>\n",
    "code_show=true; \n",
    "function code_toggle() {\n",
    " if (code_show){\n",
    " $('div.input').hide();\n",
    " } else {\n",
    " $('div.input').show();\n",
    " }\n",
    " code_show = !code_show\n",
    "} \n",
    "$( document ).ready(code_toggle);\n",
    "</script>\n",
    "<form action=\"javascript:code_toggle()\"><input type=\"submit\" value=\"Click here to toggle on/off the raw code.\"></form>''')"
   ]
  },
  {
   "cell_type": "code",
   "execution_count": null,
   "metadata": {
    "collapsed": true
   },
   "outputs": [],
   "source": []
  }
 ],
 "metadata": {
  "kernelspec": {
   "display_name": "Python 2",
   "language": "python",
   "name": "python2"
  },
  "language_info": {
   "codemirror_mode": {
    "name": "ipython",
    "version": 2
   },
   "file_extension": ".py",
   "mimetype": "text/x-python",
   "name": "python",
   "nbconvert_exporter": "python",
   "pygments_lexer": "ipython2",
   "version": "2.7.11"
  }
 },
 "nbformat": 4,
 "nbformat_minor": 0
}
